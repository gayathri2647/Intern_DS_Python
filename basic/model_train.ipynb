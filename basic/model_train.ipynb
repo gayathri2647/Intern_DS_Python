{
 "cells": [
  {
   "cell_type": "markdown",
   "id": "cb1d3c22",
   "metadata": {},
   "source": [
    "## **Preprocessing the dataset**"
   ]
  },
  {
   "cell_type": "code",
   "execution_count": 1,
   "id": "a9006737",
   "metadata": {},
   "outputs": [],
   "source": [
    "import pandas as pd\n",
    "from sklearn.preprocessing import LabelEncoder, StandardScaler\n",
    "from sklearn.feature_extraction.text import CountVectorizer"
   ]
  },
  {
   "cell_type": "code",
   "execution_count": 2,
   "id": "a6f4a0b3",
   "metadata": {},
   "outputs": [],
   "source": [
    "df = pd.read_csv('blood_cancer_dataset.csv')"
   ]
  },
  {
   "cell_type": "code",
   "execution_count": 3,
   "id": "274b192f",
   "metadata": {},
   "outputs": [],
   "source": [
    "df.drop(['Patient_ID', 'Date_of_Test'], axis=1, inplace=True)"
   ]
  },
  {
   "cell_type": "code",
   "execution_count": 4,
   "id": "369da94d",
   "metadata": {},
   "outputs": [],
   "source": [
    "df.drop(['Cancer_Type', 'Stage'], axis=1, inplace=True)"
   ]
  },
  {
   "cell_type": "code",
   "execution_count": 5,
   "id": "31a74b70",
   "metadata": {},
   "outputs": [],
   "source": [
    "le_gender = LabelEncoder()\n",
    "df['Gender'] = le_gender.fit_transform(df['Gender'])"
   ]
  },
  {
   "cell_type": "code",
   "execution_count": 6,
   "id": "081d96d1",
   "metadata": {},
   "outputs": [],
   "source": [
    "df['Diagnosis_Result'] = df['Diagnosis_Result'].map({'Negative': 0, 'Positive': 1})"
   ]
  },
  {
   "cell_type": "code",
   "execution_count": 7,
   "id": "27ed68f3",
   "metadata": {},
   "outputs": [],
   "source": [
    "vectorizer = CountVectorizer(tokenizer=lambda x: x.split(', '))\n",
    "symptom_features = vectorizer.fit_transform(df['Symptoms'])"
   ]
  },
  {
   "cell_type": "code",
   "execution_count": 8,
   "id": "fee50184",
   "metadata": {},
   "outputs": [],
   "source": [
    "symptom_df = pd.DataFrame(symptom_features.toarray(), columns=vectorizer.get_feature_names())\n",
    "df = pd.concat([df.drop('Symptoms', axis=1), symptom_df], axis=1)"
   ]
  },
  {
   "cell_type": "code",
   "execution_count": 9,
   "id": "e2e60213",
   "metadata": {},
   "outputs": [],
   "source": [
    "numeric_cols = ['Age', 'White_Blood_Cell_Count', 'Red_Blood_Cell_Count', 'Hemoglobin_Level', 'Platelet_Count']\n",
    "scaler = StandardScaler()\n",
    "df[numeric_cols] = scaler.fit_transform(df[numeric_cols])"
   ]
  },
  {
   "cell_type": "code",
   "execution_count": 10,
   "id": "af1f4fc6",
   "metadata": {},
   "outputs": [
    {
     "name": "stdout",
     "output_type": "stream",
     "text": [
      "Preprocessed dataset shape: (5000, 21)\n",
      "        Age  Gender  White_Blood_Cell_Count  Red_Blood_Cell_Count  \\\n",
      "0  0.467172       1               -0.764495             -0.259511   \n",
      "1  0.004473       1               -0.352799              1.495621   \n",
      "2 -0.998042       0               -0.793786             -0.002215   \n",
      "3  1.508244       2                0.451880             -1.132483   \n",
      "4 -0.226877       2               -0.614787             -0.204376   \n",
      "\n",
      "   Hemoglobin_Level  Platelet_Count  Diagnosis_Result  abdominal pain  \\\n",
      "0         -0.417811       -0.519299                 0               0   \n",
      "1          0.959971       -0.355628                 0               0   \n",
      "2          0.871181       -0.569135                 0               0   \n",
      "3         -1.703741        1.417057                 1               0   \n",
      "4          0.592563       -0.995465                 0               1   \n",
      "\n",
      "   bleeding gums  bone pain  ...  fatigue  fever  frequent infections  \\\n",
      "0              0          0  ...        0      0                    0   \n",
      "1              1          0  ...        0      0                    1   \n",
      "2              0          1  ...        1      1                    0   \n",
      "3              0          0  ...        0      0                    1   \n",
      "4              0          0  ...        0      0                    0   \n",
      "\n",
      "   headaches  itchy skin  loss of appetite  night sweats  shortness of breath  \\\n",
      "0          0           0                 1             0                    0   \n",
      "1          0           0                 0             0                    0   \n",
      "2          1           0                 1             0                    0   \n",
      "3          0           1                 0             0                    1   \n",
      "4          1           1                 1             0                    0   \n",
      "\n",
      "   swollen lymph nodes  weight loss  \n",
      "0                    0            1  \n",
      "1                    1            1  \n",
      "2                    0            0  \n",
      "3                    0            0  \n",
      "4                    0            0  \n",
      "\n",
      "[5 rows x 21 columns]\n"
     ]
    }
   ],
   "source": [
    "print(\"Preprocessed dataset shape:\", df.shape)\n",
    "print(df.head())"
   ]
  },
  {
   "cell_type": "markdown",
   "id": "54d093d6",
   "metadata": {},
   "source": [
    "## **Modeling data**"
   ]
  },
  {
   "cell_type": "code",
   "execution_count": 11,
   "id": "178a2dcf",
   "metadata": {},
   "outputs": [],
   "source": [
    "import numpy as np\n",
    "import pandas as pd\n",
    "from sklearn.linear_model import LogisticRegression\n",
    "from sklearn.svm import SVC\n",
    "from sklearn.neighbors import KNeighborsClassifier\n",
    "from sklearn.cluster import KMeans\n",
    "from sklearn.metrics import accuracy_score, classification_report\n",
    "from sklearn.model_selection import train_test_split, GridSearchCV\n",
    "from sklearn.preprocessing import StandardScaler\n",
    "from sklearn.ensemble import VotingClassifier"
   ]
  },
  {
   "cell_type": "code",
   "execution_count": 12,
   "id": "fb6ee9d8",
   "metadata": {},
   "outputs": [],
   "source": [
    "X = df.drop('Diagnosis_Result', axis=1)\n",
    "y = df['Diagnosis_Result']"
   ]
  },
  {
   "cell_type": "code",
   "execution_count": 13,
   "id": "e61eb54a",
   "metadata": {},
   "outputs": [],
   "source": [
    "X_train, X_test, y_train, y_test = train_test_split(X, y, test_size=0.2, random_state=42, stratify=y)"
   ]
  },
  {
   "cell_type": "code",
   "execution_count": 14,
   "id": "fc3f5141",
   "metadata": {},
   "outputs": [],
   "source": [
    "scaler = StandardScaler()\n",
    "X_train_scaled = scaler.fit_transform(X_train)\n",
    "X_test_scaled = scaler.transform(X_test)"
   ]
  },
  {
   "cell_type": "code",
   "execution_count": 15,
   "id": "35cf0236",
   "metadata": {},
   "outputs": [],
   "source": [
    "kmeans = KMeans(n_clusters=3, random_state=42)\n",
    "train_clusters = kmeans.fit_predict(X_train_scaled).reshape(-1, 1)\n",
    "test_clusters = kmeans.predict(X_test_scaled).reshape(-1, 1)"
   ]
  },
  {
   "cell_type": "code",
   "execution_count": 16,
   "id": "564b45fd",
   "metadata": {},
   "outputs": [],
   "source": [
    "X_train_final = np.hstack((X_train_scaled, train_clusters))\n",
    "X_test_final = np.hstack((X_test_scaled, test_clusters))"
   ]
  },
  {
   "cell_type": "code",
   "execution_count": 17,
   "id": "37337eae",
   "metadata": {},
   "outputs": [],
   "source": [
    "# Define models and hyperparameter grids\n",
    "param_grids = {\n",
    "    'lr': {\n",
    "        'C': [0.01, 0.1, 1, 10],\n",
    "        'penalty': ['l2'],\n",
    "        'solver': ['lbfgs'],\n",
    "        'max_iter': [1000]\n",
    "    },\n",
    "    'svm': {\n",
    "        'C': [0.1, 1, 10],\n",
    "        'kernel': ['rbf', 'linear'],\n",
    "        'gamma': ['scale', 'auto']\n",
    "    },\n",
    "    'knn': {\n",
    "        'n_neighbors': [3, 5, 7, 9],\n",
    "        'weights': ['uniform', 'distance'],\n",
    "        'metric': ['minkowski', 'euclidean']\n",
    "    }\n",
    "}"
   ]
  },
  {
   "cell_type": "code",
   "execution_count": 18,
   "id": "13ce7543",
   "metadata": {},
   "outputs": [],
   "source": [
    "lr = LogisticRegression(random_state=42)\n",
    "svm = SVC(probability=True, random_state=42)\n",
    "knn = KNeighborsClassifier()"
   ]
  },
  {
   "cell_type": "code",
   "execution_count": 19,
   "id": "50673c37",
   "metadata": {},
   "outputs": [],
   "source": [
    "def grid_search_fit(model, params, X, y):\n",
    "    grid = GridSearchCV(model, params, cv=5, scoring='accuracy', n_jobs=-1)\n",
    "    grid.fit(X, y)\n",
    "    print(f\"Best params for {model.__class__.__name__}: {grid.best_params_}\")\n",
    "    print(f\"Best CV accuracy: {grid.best_score_ * 100:.2f}%\")\n",
    "    return grid.best_estimator_"
   ]
  },
  {
   "cell_type": "code",
   "execution_count": 20,
   "id": "1bf8aa08",
   "metadata": {},
   "outputs": [
    {
     "name": "stdout",
     "output_type": "stream",
     "text": [
      "Tuning Logistic Regression...\n",
      "Best params for LogisticRegression: {'C': 0.1, 'max_iter': 1000, 'penalty': 'l2', 'solver': 'lbfgs'}\n",
      "Best CV accuracy: 100.00%\n"
     ]
    }
   ],
   "source": [
    "print(\"Tuning Logistic Regression...\")\n",
    "best_lr = grid_search_fit(lr, param_grids['lr'], X_train_final, y_train)"
   ]
  },
  {
   "cell_type": "code",
   "execution_count": 21,
   "id": "01e484f9",
   "metadata": {},
   "outputs": [
    {
     "name": "stdout",
     "output_type": "stream",
     "text": [
      "\n",
      "Tuning SVM...\n",
      "Best params for SVC: {'C': 0.1, 'gamma': 'scale', 'kernel': 'rbf'}\n",
      "Best CV accuracy: 100.00%\n"
     ]
    }
   ],
   "source": [
    "print(\"\\nTuning SVM...\")\n",
    "best_svm = grid_search_fit(svm, param_grids['svm'], X_train_final, y_train)"
   ]
  },
  {
   "cell_type": "code",
   "execution_count": 22,
   "id": "4dcfc143",
   "metadata": {},
   "outputs": [
    {
     "name": "stdout",
     "output_type": "stream",
     "text": [
      "\n",
      "Tuning KNN...\n",
      "Best params for KNeighborsClassifier: {'metric': 'minkowski', 'n_neighbors': 9, 'weights': 'distance'}\n",
      "Best CV accuracy: 99.42%\n"
     ]
    }
   ],
   "source": [
    "print(\"\\nTuning KNN...\")\n",
    "best_knn = grid_search_fit(knn, param_grids['knn'], X_train_final, y_train)"
   ]
  },
  {
   "cell_type": "code",
   "execution_count": 23,
   "id": "b6d20107",
   "metadata": {},
   "outputs": [],
   "source": [
    "ensemble = VotingClassifier(\n",
    "    estimators=[('lr', best_lr), ('svm', best_svm), ('knn', best_knn)],\n",
    "    voting='soft'\n",
    ")"
   ]
  },
  {
   "cell_type": "code",
   "execution_count": 24,
   "id": "e0e9735f",
   "metadata": {},
   "outputs": [],
   "source": [
    "ensemble.fit(X_train_final, y_train)\n",
    "y_pred_ensemble = ensemble.predict(X_test_final)"
   ]
  },
  {
   "cell_type": "code",
   "execution_count": 25,
   "id": "54c7fef8",
   "metadata": {},
   "outputs": [],
   "source": [
    "acc = accuracy_score(y_test, y_pred_ensemble)"
   ]
  },
  {
   "cell_type": "code",
   "execution_count": 26,
   "id": "3ec7b56e",
   "metadata": {},
   "outputs": [
    {
     "name": "stdout",
     "output_type": "stream",
     "text": [
      "\n",
      "Ensemble Test Accuracy: 100.00%\n",
      "Classification Report:\n",
      "              precision    recall  f1-score   support\n",
      "\n",
      "           0       1.00      1.00      1.00       750\n",
      "           1       1.00      1.00      1.00       250\n",
      "\n",
      "    accuracy                           1.00      1000\n",
      "   macro avg       1.00      1.00      1.00      1000\n",
      "weighted avg       1.00      1.00      1.00      1000\n",
      "\n"
     ]
    }
   ],
   "source": [
    "print(f\"\\nEnsemble Test Accuracy: {acc * 100:.2f}%\")\n",
    "print(\"Classification Report:\")\n",
    "print(classification_report(y_test, y_pred_ensemble))"
   ]
  }
 ],
 "metadata": {
  "kernelspec": {
   "display_name": "Python 3",
   "language": "python",
   "name": "python3"
  },
  "language_info": {
   "codemirror_mode": {
    "name": "ipython",
    "version": 3
   },
   "file_extension": ".py",
   "mimetype": "text/x-python",
   "name": "python",
   "nbconvert_exporter": "python",
   "pygments_lexer": "ipython3",
   "version": "3.9.10"
  }
 },
 "nbformat": 4,
 "nbformat_minor": 5
}
