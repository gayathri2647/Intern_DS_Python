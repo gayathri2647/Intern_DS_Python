{
 "cells": [
  {
   "cell_type": "code",
   "execution_count": null,
   "id": "1e0a8594",
   "metadata": {},
   "outputs": [],
   "source": [
    "#Sentiment analysis using Decision Tree Classifier\n",
    "import numpy as np\n",
    "import pandas as pd\n",
    "import matplotlib.pyplot as plt\n",
    "import seaborn as sns\n",
    "import re\n",
    "import string\n",
    "from sklearn.preprocessing import LabelEncoder\n",
    "from sklearn.model_selection import train_test_split\n",
    "from sklearn.feature_extraction.text import TfidfVectorizer\n",
    "from sklearn.tree import DecisionTreeClassifier\n",
    "from sklearn.metrics import accuracy_score"
   ]
  },
  {
   "cell_type": "code",
   "execution_count": 2,
   "id": "96933649",
   "metadata": {},
   "outputs": [
    {
     "name": "stdout",
     "output_type": "stream",
     "text": [
      "Index(['No', 'statement', 'status'], dtype='object')\n",
      "No           0\n",
      "statement    0\n",
      "status       0\n",
      "dtype: int64\n"
     ]
    }
   ],
   "source": [
    "df = pd.read_csv('Combined Data.csv')\n",
    "df.describe()\n",
    "print(df.columns)\n",
    "if \"Unnamed: 0\" in df.columns:\n",
    "\tdf = df.drop(columns=[\"Unnamed: 0\"])\n",
    "df = df.dropna(subset=[\"statement\"])\n",
    "print(df.isnull().sum())"
   ]
  },
  {
   "cell_type": "code",
   "execution_count": 3,
   "id": "91c76b3a",
   "metadata": {},
   "outputs": [],
   "source": [
    "# Text preprocessing\n",
    "def clean_text(text):\n",
    "    text = text.lower()\n",
    "    text = re.sub(f\"[{re.escape(string.punctuation)}]\", \"\", text)\n",
    "    text = re.sub(r\"\\d+\", \"\", text)\n",
    "    return text.strip()\n",
    "df[\"clean_statement\"] = df[\"statement\"].apply(clean_text)\n",
    "label_encoder = LabelEncoder()\n",
    "df[\"encoded_status\"] = label_encoder.fit_transform(df[\"status\"])"
   ]
  },
  {
   "cell_type": "code",
   "execution_count": 4,
   "id": "0e22e675",
   "metadata": {},
   "outputs": [],
   "source": [
    "vectorizer = TfidfVectorizer(max_features=5000)\n",
    "X = vectorizer.fit_transform(df['clean_statement'])\n",
    "y = df['encoded_status']"
   ]
  },
  {
   "cell_type": "code",
   "execution_count": 5,
   "id": "b2a4062c",
   "metadata": {},
   "outputs": [],
   "source": [
    "X_train, X_test, y_train, y_test = train_test_split(X, y, test_size=0.2, random_state=42)"
   ]
  },
  {
   "cell_type": "code",
   "execution_count": 6,
   "id": "d71b44f9",
   "metadata": {},
   "outputs": [],
   "source": [
    "model = DecisionTreeClassifier()\n",
    "model.fit(X_train, y_train)\n",
    "y_pred = model.predict(X_test)\n",
    "accuracy = accuracy_score(y_test, y_pred)"
   ]
  },
  {
   "cell_type": "code",
   "execution_count": 7,
   "id": "1e407375",
   "metadata": {},
   "outputs": [],
   "source": [
    "user_input = input(\"Enter a review statement: \")\n",
    "user_vector = vectorizer.transform([user_input])\n",
    "user_prediction = model.predict(user_vector)[0]"
   ]
  },
  {
   "cell_type": "code",
   "execution_count": 8,
   "id": "c50a11c8",
   "metadata": {},
   "outputs": [
    {
     "name": "stdout",
     "output_type": "stream",
     "text": [
      "Accuracy: 0.6607193698396128\n",
      "Review Sentiment: Negative\n"
     ]
    }
   ],
   "source": [
    "print(\"Accuracy:\", accuracy)\n",
    "print(\"Review Sentiment:\", \"Positive\" if user_prediction == 1 else \"Negative\")"
   ]
  }
 ],
 "metadata": {
  "kernelspec": {
   "display_name": "Python 3",
   "language": "python",
   "name": "python3"
  },
  "language_info": {
   "codemirror_mode": {
    "name": "ipython",
    "version": 3
   },
   "file_extension": ".py",
   "mimetype": "text/x-python",
   "name": "python",
   "nbconvert_exporter": "python",
   "pygments_lexer": "ipython3",
   "version": "3.9.10"
  }
 },
 "nbformat": 4,
 "nbformat_minor": 5
}
