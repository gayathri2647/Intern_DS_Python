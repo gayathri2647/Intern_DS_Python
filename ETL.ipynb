{
 "cells": [
  {
   "cell_type": "code",
   "execution_count": null,
   "id": "d85f28c3",
   "metadata": {},
   "outputs": [
    {
     "name": "stdout",
     "output_type": "stream",
     "text": [
      "Data inserted successfully into 'habits' table.\n",
      "MySQL connection is closed.\n"
     ]
    }
   ],
   "source": [
    "import pandas as pd\n",
    "import mysql.connector\n",
    "from mysql.connector import Error\n",
    "\n",
    "df = pd.read_csv('student_habits_performance.csv')\n",
    "\n",
    "try:\n",
    "    connection = mysql.connector.connect(\n",
    "        host='127.0.0.1',\n",
    "        port=3306,\n",
    "        user='root',                        \n",
    "        database='studentdb'   \n",
    "    )\n",
    "\n",
    "    if connection.is_connected():\n",
    "        cursor = connection.cursor()\n",
    "        for index, row in df.iterrows():\n",
    "            cursor.execute(\"\"\"\n",
    "                INSERT INTO habits (student_id, age, gender)\n",
    "                VALUES (%s, %s, %s)\n",
    "            \"\"\", (row['student_id'], row['age'], row['gender']))\n",
    "\n",
    "        connection.commit()\n",
    "        print(\"Data inserted successfully into 'habits' table.\")\n",
    "\n",
    "except Error as e:\n",
    "    print(\"Error while connecting to MySQL:\", e)\n",
    "\n",
    "finally:\n",
    "    if connection.is_connected():\n",
    "        cursor.close()\n",
    "        connection.close()\n",
    "        print(\"MySQL connection is closed.\") \n"
   ]
  }
 ],
 "metadata": {
  "kernelspec": {
   "display_name": "Python 3",
   "language": "python",
   "name": "python3"
  },
  "language_info": {
   "codemirror_mode": {
    "name": "ipython",
    "version": 3
   },
   "file_extension": ".py",
   "mimetype": "text/x-python",
   "name": "python",
   "nbconvert_exporter": "python",
   "pygments_lexer": "ipython3",
   "version": "3.9.10"
  }
 },
 "nbformat": 4,
 "nbformat_minor": 5
}
