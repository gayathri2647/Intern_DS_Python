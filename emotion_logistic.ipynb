{
 "cells": [
  {
   "cell_type": "code",
   "execution_count": null,
   "id": "dad91efe",
   "metadata": {},
   "outputs": [],
   "source": [
    "#product sentiment analysis using logistic regression\n",
    "import pandas as pd\n",
    "import numpy as np\n",
    "import matplotlib.pyplot as plt\n",
    "import seaborn as sns\n",
    "from sklearn.model_selection import train_test_split\n",
    "from sklearn.linear_model import LogisticRegression\n",
    "from sklearn.metrics import accuracy_score"
   ]
  },
  {
   "cell_type": "code",
   "execution_count": 2,
   "id": "ce0cca1d",
   "metadata": {},
   "outputs": [
    {
     "data": {
      "text/html": [
       "<div>\n",
       "<style scoped>\n",
       "    .dataframe tbody tr th:only-of-type {\n",
       "        vertical-align: middle;\n",
       "    }\n",
       "\n",
       "    .dataframe tbody tr th {\n",
       "        vertical-align: top;\n",
       "    }\n",
       "\n",
       "    .dataframe thead th {\n",
       "        text-align: right;\n",
       "    }\n",
       "</style>\n",
       "<table border=\"1\" class=\"dataframe\">\n",
       "  <thead>\n",
       "    <tr style=\"text-align: right;\">\n",
       "      <th></th>\n",
       "      <th>User ID</th>\n",
       "      <th>Product ID</th>\n",
       "      <th>Price</th>\n",
       "      <th>Rating</th>\n",
       "    </tr>\n",
       "  </thead>\n",
       "  <tbody>\n",
       "    <tr>\n",
       "      <th>count</th>\n",
       "      <td>1000.00000</td>\n",
       "      <td>1000.000000</td>\n",
       "      <td>1000.000000</td>\n",
       "      <td>1000.000000</td>\n",
       "    </tr>\n",
       "    <tr>\n",
       "      <th>mean</th>\n",
       "      <td>50.41900</td>\n",
       "      <td>500.500000</td>\n",
       "      <td>55.785000</td>\n",
       "      <td>2.993135</td>\n",
       "    </tr>\n",
       "    <tr>\n",
       "      <th>std</th>\n",
       "      <td>28.78131</td>\n",
       "      <td>288.819436</td>\n",
       "      <td>26.291748</td>\n",
       "      <td>1.153185</td>\n",
       "    </tr>\n",
       "    <tr>\n",
       "      <th>min</th>\n",
       "      <td>1.00000</td>\n",
       "      <td>1.000000</td>\n",
       "      <td>10.000000</td>\n",
       "      <td>1.000967</td>\n",
       "    </tr>\n",
       "    <tr>\n",
       "      <th>25%</th>\n",
       "      <td>26.00000</td>\n",
       "      <td>250.750000</td>\n",
       "      <td>33.000000</td>\n",
       "      <td>1.992786</td>\n",
       "    </tr>\n",
       "    <tr>\n",
       "      <th>50%</th>\n",
       "      <td>50.00000</td>\n",
       "      <td>500.500000</td>\n",
       "      <td>57.000000</td>\n",
       "      <td>2.984003</td>\n",
       "    </tr>\n",
       "    <tr>\n",
       "      <th>75%</th>\n",
       "      <td>75.00000</td>\n",
       "      <td>750.250000</td>\n",
       "      <td>78.250000</td>\n",
       "      <td>3.985084</td>\n",
       "    </tr>\n",
       "    <tr>\n",
       "      <th>max</th>\n",
       "      <td>100.00000</td>\n",
       "      <td>1000.000000</td>\n",
       "      <td>100.000000</td>\n",
       "      <td>4.987964</td>\n",
       "    </tr>\n",
       "  </tbody>\n",
       "</table>\n",
       "</div>"
      ],
      "text/plain": [
       "          User ID   Product ID        Price       Rating\n",
       "count  1000.00000  1000.000000  1000.000000  1000.000000\n",
       "mean     50.41900   500.500000    55.785000     2.993135\n",
       "std      28.78131   288.819436    26.291748     1.153185\n",
       "min       1.00000     1.000000    10.000000     1.000967\n",
       "25%      26.00000   250.750000    33.000000     1.992786\n",
       "50%      50.00000   500.500000    57.000000     2.984003\n",
       "75%      75.00000   750.250000    78.250000     3.985084\n",
       "max     100.00000  1000.000000   100.000000     4.987964"
      ]
     },
     "execution_count": 2,
     "metadata": {},
     "output_type": "execute_result"
    }
   ],
   "source": [
    "df= pd.read_csv('fashion_products.csv')\n",
    "df.head()\n",
    "df.describe()"
   ]
  },
  {
   "cell_type": "code",
   "execution_count": 3,
   "id": "b8f981c7",
   "metadata": {},
   "outputs": [
    {
     "name": "stdout",
     "output_type": "stream",
     "text": [
      "User ID         0\n",
      "Product ID      0\n",
      "Product Name    0\n",
      "Brand           0\n",
      "Category        0\n",
      "Price           0\n",
      "Rating          0\n",
      "Color           0\n",
      "Size            0\n",
      "dtype: int64\n"
     ]
    }
   ],
   "source": [
    "print(df.isnull().sum())\n",
    "df.dropna(inplace=True)\n",
    "df['Review_Label'] = df['Rating'].apply(lambda x: 1 if x >= 3 else 0)"
   ]
  },
  {
   "cell_type": "code",
   "execution_count": 4,
   "id": "03612dec",
   "metadata": {},
   "outputs": [],
   "source": [
    "x = df[['User ID', 'Price', 'Product ID']]\n",
    "y = df['Review_Label']"
   ]
  },
  {
   "cell_type": "code",
   "execution_count": 8,
   "id": "0a1d22f6",
   "metadata": {},
   "outputs": [],
   "source": [
    "x_train, x_test, y_train, y_test = train_test_split(x, y, test_size=0.2)\n",
    "model= LogisticRegression()\n",
    "model.fit(x_train, y_train)\n",
    "y_pred = model.predict(x_test)"
   ]
  },
  {
   "cell_type": "code",
   "execution_count": 9,
   "id": "a95ceb4a",
   "metadata": {},
   "outputs": [
    {
     "name": "stdout",
     "output_type": "stream",
     "text": [
      "Accuracy: 0.535\n"
     ]
    }
   ],
   "source": [
    "print(\"Accuracy:\", accuracy_score(y_test, y_pred))"
   ]
  },
  {
   "cell_type": "code",
   "execution_count": 10,
   "id": "17042881",
   "metadata": {},
   "outputs": [
    {
     "name": "stdout",
     "output_type": "stream",
     "text": [
      "Review: Negative\n"
     ]
    },
    {
     "name": "stderr",
     "output_type": "stream",
     "text": [
      "c:\\python39\\lib\\site-packages\\sklearn\\utils\\validation.py:2739: UserWarning: X does not have valid feature names, but LogisticRegression was fitted with feature names\n",
      "  warnings.warn(\n"
     ]
    }
   ],
   "source": [
    "uid = int(input(\"Enter User ID: \"))\n",
    "price = float(input(\"Enter Price: \"))\n",
    "pid = int(input(\"Enter Product ID: \"))\n",
    "user_input = np.array([[uid, price, pid]])\n",
    "prediction = model.predict(user_input)[0]\n",
    "print(\"Review:\", \"Positive\" if prediction == 1 else \"Negative\")"
   ]
  },
  {
   "cell_type": "code",
   "execution_count": null,
   "id": "0c6570c1",
   "metadata": {},
   "outputs": [
    {
     "data": {
      "image/png": "[encoded data removed]",
      "text/plain": [
       "<Figure size 640x480 with 1 Axes>"
      ]
     },
     "metadata": {},
     "output_type": "display_data"
    }
   ],
   "source": [
    "plt.scatter(x_test['Price'], y_test, color='blue', label='Actual') \n",
    "plt.scatter(x_test['Price'], y_pred, color='green', label='Predicted') \n",
    "plt.title('Logistic Regression: Actual vs Predicted Reviews')\n",
    "plt.xlabel('Price')\n",
    "plt.ylabel('Review Label (0 = Negative, 1 = Positive)')\n",
    "plt.legend()\n",
    "plt.grid(True)\n",
    "plt.show()"
   ]
  }
 ],
 "metadata": {
  "kernelspec": {
   "display_name": "Python 3",
   "language": "python",
   "name": "python3"
  },
  "language_info": {
   "codemirror_mode": {
    "name": "ipython",
    "version": 3
   },
   "file_extension": ".py",
   "mimetype": "text/x-python",
   "name": "python",
   "nbconvert_exporter": "python",
   "pygments_lexer": "ipython3",
   "version": "3.9.10"
  }
 },
 "nbformat": 4,
 "nbformat_minor": 5
}
