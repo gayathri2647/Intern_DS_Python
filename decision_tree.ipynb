{
 "cells": [
  {
   "cell_type": "code",
   "execution_count": 25,
   "id": "c1f55c93",
   "metadata": {},
   "outputs": [],
   "source": [
    "#decision tree\n",
    "import numpy as np\n",
    "import pandas as pd\n",
    "import matplotlib.pyplot as plt\n",
    "import seaborn as sns\n",
    "from sklearn import tree\n",
    "from sklearn.tree import DecisionTreeClassifier\n",
    "from sklearn.model_selection import train_test_split\n",
    "from sklearn.metrics import accuracy_score\n",
    "from sklearn import preprocessing\n"
   ]
  },
  {
   "cell_type": "code",
   "execution_count": 22,
   "id": "713b6d82",
   "metadata": {},
   "outputs": [
    {
     "name": "stdout",
     "output_type": "stream",
     "text": [
      "Index(['id', 'Gender', 'Age', 'City', 'Profession', 'Academic Pressure',\n",
      "       'Work Pressure', 'CGPA', 'Study Satisfaction', 'Job Satisfaction',\n",
      "       'Sleep Duration', 'Dietary Habits', 'Degree',\n",
      "       'Have you ever had suicidal thoughts ?', 'Work/Study Hours',\n",
      "       'Financial Stress', 'Family History of Mental Illness', 'Depression'],\n",
      "      dtype='object')\n",
      "['5-6 hours' 'Less than 5 hours' '7-8 hours' 'More than 8 hours' 'Others']\n"
     ]
    }
   ],
   "source": [
    "\n",
    "df=pd.read_csv('Student Depression Dataset.csv')\n",
    "df.head()\n",
    "df.describe()\n",
    "print(df.columns)\n",
    "print(df['Sleep Duration'].unique())  # Inspect values\n",
    "\n"
   ]
  },
  {
   "cell_type": "code",
   "execution_count": null,
   "id": "9361ec48",
   "metadata": {},
   "outputs": [
    {
     "data": {
      "text/plain": [
       "array([0, 2, 1, 3, 4])"
      ]
     },
     "execution_count": 26,
     "metadata": {},
     "output_type": "execute_result"
    }
   ],
   "source": [
    "\n",
    "\n",
    "label_encoder = preprocessing.LabelEncoder()\n",
    "df['Sleep Duration']= label_encoder.fit_transform(df['Sleep Duration'])\n",
    "df['Sleep Duration'].unique()\n"
   ]
  },
  {
   "cell_type": "code",
   "execution_count": 27,
   "id": "9fdf47b4",
   "metadata": {},
   "outputs": [
    {
     "name": "stdout",
     "output_type": "stream",
     "text": [
      "id                                       0\n",
      "Gender                                   0\n",
      "Age                                      0\n",
      "City                                     0\n",
      "Profession                               0\n",
      "Academic Pressure                        0\n",
      "Work Pressure                            0\n",
      "CGPA                                     0\n",
      "Study Satisfaction                       0\n",
      "Job Satisfaction                         0\n",
      "Sleep Duration                           0\n",
      "Dietary Habits                           0\n",
      "Degree                                   0\n",
      "Have you ever had suicidal thoughts ?    0\n",
      "Work/Study Hours                         0\n",
      "Financial Stress                         3\n",
      "Family History of Mental Illness         0\n",
      "Depression                               0\n",
      "dtype: int64\n"
     ]
    }
   ],
   "source": [
    "x=df[['Academic Pressure','Work Pressure','Sleep Duration']]\n",
    "y=df['Age']\n",
    "print(df.isnull().sum())\n",
    "df.dropna(inplace=True)\n",
    "\n"
   ]
  },
  {
   "cell_type": "code",
   "execution_count": 28,
   "id": "f925aa79",
   "metadata": {},
   "outputs": [
    {
     "name": "stdout",
     "output_type": "stream",
     "text": [
      "0.09245654900555456\n",
      "[28. 20. 28. ... 28. 28. 21.]\n"
     ]
    }
   ],
   "source": [
    "x_train, x_test, y_train, y_test = train_test_split(x, y, test_size=0.2)\n",
    "model= DecisionTreeClassifier()\n",
    "\n",
    "model.fit(x_train, y_train)\n",
    "print(model.score(x_test, y_test))\n",
    "y_pred = model.predict(x_test)\n",
    "print(y_pred)"
   ]
  },
  {
   "cell_type": "code",
   "execution_count": 29,
   "id": "2273bac1",
   "metadata": {},
   "outputs": [
    {
     "data": {
      "image/png": "[encoded data removed]",
      "text/plain": [
       "<Figure size 640x480 with 1 Axes>"
      ]
     },
     "metadata": {},
     "output_type": "display_data"
    }
   ],
   "source": [
    "\n",
    "plt.scatter(x_test['Academic Pressure'], y_test, color='blue', label='Actual')\n",
    "plt.scatter(x_test['Academic Pressure'], y_pred, color='green', label='Predicted', linewidths=2)\n",
    "plt.title('Decision Tree Classifier')\n",
    "plt.xlabel('Academic Pressure')\n",
    "plt.ylabel('Age')\n",
    "plt.legend()\n",
    "plt.show()"
   ]
  }
 ],
 "metadata": {
  "kernelspec": {
   "display_name": "Python 3",
   "language": "python",
   "name": "python3"
  },
  "language_info": {
   "codemirror_mode": {
    "name": "ipython",
    "version": 3
   },
   "file_extension": ".py",
   "mimetype": "text/x-python",
   "name": "python",
   "nbconvert_exporter": "python",
   "pygments_lexer": "ipython3",
   "version": "3.9.10"
  }
 },
 "nbformat": 4,
 "nbformat_minor": 5
}
