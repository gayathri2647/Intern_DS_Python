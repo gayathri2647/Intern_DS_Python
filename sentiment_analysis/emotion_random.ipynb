{
 "cells": [
  {
   "cell_type": "code",
   "execution_count": 1,
   "id": "3feb993c",
   "metadata": {},
   "outputs": [],
   "source": [
    "#Sentiment analysis using Random Forest Classifier\n",
    "import numpy as np\n",
    "import pandas as pd\n",
    "import matplotlib.pyplot as plt\n",
    "import seaborn as sns\n",
    "import re\n",
    "import string\n",
    "from sklearn.preprocessing import LabelEncoder\n",
    "from sklearn.model_selection import train_test_split\n",
    "from sklearn.feature_extraction.text import TfidfVectorizer\n",
    "from sklearn.ensemble import RandomForestClassifier\n",
    "from sklearn.metrics import accuracy_score,  precision_recall_fscore_support"
   ]
  },
  {
   "cell_type": "code",
   "execution_count": 2,
   "id": "f3c366d9",
   "metadata": {},
   "outputs": [
    {
     "name": "stdout",
     "output_type": "stream",
     "text": [
      "Index(['No', 'statement', 'status'], dtype='object')\n"
     ]
    }
   ],
   "source": [
    "df = pd.read_csv('datasets/Combined Data.csv')\n",
    "print(df.columns)\n",
    "df = df.dropna(subset=[\"statement\"])"
   ]
  },
  {
   "cell_type": "code",
   "execution_count": 3,
   "id": "ae4ab6ab",
   "metadata": {},
   "outputs": [],
   "source": [
    "negative_labels = ['Anxiety', 'Depression', 'Suicidal', 'Stress', 'Bipolar', 'Personality disorder']\n",
    "positive_labels = ['Normal']\n",
    "df['sentiment'] = df['status'].apply(lambda x: 'Negative' if x in negative_labels else 'Positive')"
   ]
  },
  {
   "cell_type": "code",
   "execution_count": 4,
   "id": "c4643991",
   "metadata": {},
   "outputs": [],
   "source": [
    "def clean_text(statement):\n",
    "    statement = statement.lower()\n",
    "    statement = re.sub(r\"http\\S+|www\\S+|https\\S+\", '', statement, flags=re.MULTILINE)  \n",
    "    statement = re.sub(r'\\@w+|\\#', '', statement) \n",
    "    statement = re.sub(r'[^A-Za-z\\s]', '', statement)  \n",
    "    statement = re.sub(r'\\s+', ' ', statement).strip()  \n",
    "    return statement"
   ]
  },
  {
   "cell_type": "code",
   "execution_count": 5,
   "id": "576222ea",
   "metadata": {},
   "outputs": [],
   "source": [
    "if 'statement' in df.columns:\n",
    "    df['cleaned_text'] = df['statement'].apply(clean_text)\n",
    "else:\n",
    "    print(\"Column 'text' not found!\")"
   ]
  },
  {
   "cell_type": "code",
   "execution_count": 6,
   "id": "4db7d469",
   "metadata": {},
   "outputs": [],
   "source": [
    "label_encoder = LabelEncoder()\n",
    "df['encoded_sentiment'] = label_encoder.fit_transform(df['sentiment'])"
   ]
  },
  {
   "cell_type": "code",
   "execution_count": 7,
   "id": "8e5361a0",
   "metadata": {},
   "outputs": [
    {
     "name": "stdout",
     "output_type": "stream",
     "text": [
      "Label Encoding: {'Negative': np.int64(0), 'Positive': np.int64(1)}\n"
     ]
    }
   ],
   "source": [
    "print(\"Label Encoding:\", dict(zip(label_encoder.classes_, label_encoder.transform(label_encoder.classes_))))"
   ]
  },
  {
   "cell_type": "code",
   "execution_count": 8,
   "id": "ac1fcdd4",
   "metadata": {},
   "outputs": [],
   "source": [
    "vectorizer = TfidfVectorizer()\n",
    "X = vectorizer.fit_transform(df['cleaned_text'])\n",
    "y = df['encoded_sentiment']"
   ]
  },
  {
   "cell_type": "code",
   "execution_count": 9,
   "id": "6a1b43ed",
   "metadata": {},
   "outputs": [],
   "source": [
    "X_train, X_test, y_train, y_test = train_test_split(X, y, test_size=0.2, random_state=42)"
   ]
  },
  {
   "cell_type": "code",
   "execution_count": 10,
   "id": "e88c97d5",
   "metadata": {},
   "outputs": [],
   "source": [
    "model = RandomForestClassifier()"
   ]
  },
  {
   "cell_type": "code",
   "execution_count": null,
   "id": "67971e1f",
   "metadata": {},
   "outputs": [],
   "source": [
    "model.fit(X_train, y_train)"
   ]
  },
  {
   "cell_type": "code",
   "execution_count": null,
   "id": "f8fc65c2",
   "metadata": {},
   "outputs": [],
   "source": [
    "y_pred = model.predict(X_test)\n",
    "precision, recall, f1, _ = precision_recall_fscore_support(y_test, y_pred)"
   ]
  },
  {
   "cell_type": "code",
   "execution_count": null,
   "id": "53f532fa",
   "metadata": {},
   "outputs": [
    {
     "name": "stdout",
     "output_type": "stream",
     "text": [
      "Accuracy: 93.85%\n",
      "Precision: 0.93\n",
      "Recall:    0.93\n",
      "F1 Score:  0.93\n"
     ]
    }
   ],
   "source": [
    "print(f\"Accuracy: {accuracy_score(y_test, y_pred) * 100:.2f}%\")\n",
    "print(f\"Precision: {precision.mean():.2f}\")\n",
    "print(f\"Recall:    {recall.mean():.2f}\")\n",
    "print(f\"F1 Score:  {f1.mean():.2f}\")"
   ]
  },
  {
   "cell_type": "code",
   "execution_count": null,
   "id": "bef3a31b",
   "metadata": {},
   "outputs": [
    {
     "name": "stdout",
     "output_type": "stream",
     "text": [
      "\n",
      "Review Sentiment: Negative\n"
     ]
    }
   ],
   "source": [
    "user_input = input(\"\\nEnter a review statement: \")\n",
    "user_cleaned = clean_text(user_input)\n",
    "user_vector = vectorizer.transform([user_cleaned])\n",
    "user_prediction = model.predict(user_vector)[0]\n",
    "sentiment_label = \"Positive\" if user_prediction == 1 else \"Negative\"\n",
    "print(\"\\nReview Sentiment:\", sentiment_label)"
   ]
  }
 ],
 "metadata": {
  "kernelspec": {
   "display_name": "Python 3",
   "language": "python",
   "name": "python3"
  },
  "language_info": {
   "codemirror_mode": {
    "name": "ipython",
    "version": 3
   },
   "file_extension": ".py",
   "mimetype": "text/x-python",
   "name": "python",
   "nbconvert_exporter": "python",
   "pygments_lexer": "ipython3",
   "version": "3.9.10"
  }
 },
 "nbformat": 4,
 "nbformat_minor": 5
}
