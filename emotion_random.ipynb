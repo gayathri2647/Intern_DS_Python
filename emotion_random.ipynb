{
 "cells": [
  {
   "cell_type": "code",
   "execution_count": null,
   "id": "3feb993c",
   "metadata": {},
   "outputs": [],
   "source": [
    "#Sentiment analysis using Random Forest Classifier\n",
    "import numpy as np\n",
    "import pandas as pd\n",
    "import matplotlib.pyplot as plt\n",
    "import seaborn as sns\n",
    "import re\n",
    "import string\n",
    "from sklearn.preprocessing import LabelEncoder\n",
    "from sklearn.model_selection import train_test_split\n",
    "from sklearn.feature_extraction.text import TfidfVectorizer\n",
    "from sklearn.ensemble import RandomForestClassifier\n",
    "from sklearn.metrics import accuracy_score,  precision_recall_fscore_support"
   ]
  },
  {
   "cell_type": "code",
   "execution_count": null,
   "id": "f3c366d9",
   "metadata": {},
   "outputs": [],
   "source": [
    "df = pd.read_csv('Combined Data.csv')\n",
    "df.describe()\n",
    "print(df.columns)\n",
    "if \"Unnamed: 0\" in df.columns:\n",
    "\tdf = df.drop(columns=[\"Unnamed: 0\"])\n",
    "df = df.dropna(subset=[\"statement\"])\n",
    "print(df.isnull().sum())"
   ]
  },
  {
   "cell_type": "code",
   "execution_count": null,
   "id": "c4643991",
   "metadata": {},
   "outputs": [],
   "source": [
    "# Text preprocessing\n",
    "def clean_text(text):\n",
    "    text = text.lower()\n",
    "    text = re.sub(f\"[{re.escape(string.punctuation)}]\", \"\", text)\n",
    "    text = re.sub(r\"\\d+\", \"\", text)\n",
    "    return text.strip()\n",
    "df[\"clean_statement\"] = df[\"statement\"].apply(clean_text)\n",
    "label_encoder = LabelEncoder()\n",
    "df[\"encoded_status\"] = label_encoder.fit_transform(df[\"status\"])"
   ]
  },
  {
   "cell_type": "code",
   "execution_count": null,
   "id": "3a1f9ace",
   "metadata": {},
   "outputs": [],
   "source": [
    "vectorizer = TfidfVectorizer(max_features=5000)\n",
    "X = vectorizer.fit_transform(df['clean_statement'])\n",
    "y = df['encoded_status']"
   ]
  },
  {
   "cell_type": "code",
   "execution_count": null,
   "id": "6a1b43ed",
   "metadata": {},
   "outputs": [],
   "source": [
    "X_train, X_test, y_train, y_test = train_test_split(X, y, test_size=0.2, random_state=42)"
   ]
  },
  {
   "cell_type": "code",
   "execution_count": null,
   "id": "67971e1f",
   "metadata": {},
   "outputs": [],
   "source": [
    "model = RandomForestClassifier()\n",
    "model.fit(X_train, y_train)"
   ]
  },
  {
   "cell_type": "code",
   "execution_count": null,
   "id": "f8fc65c2",
   "metadata": {},
   "outputs": [],
   "source": [
    "y_pred = model.predict(X_test)\n",
    "precision, recall, f1, _ = precision_recall_fscore_support(y_test, y_pred, average='binary')"
   ]
  },
  {
   "cell_type": "code",
   "execution_count": null,
   "id": "53f532fa",
   "metadata": {},
   "outputs": [],
   "source": [
    "print(f\"Accuracy: {accuracy_score(y_test, y_pred) * 100:.2f}%\")\n",
    "print(f\"Precision: {precision:.2f}\")\n",
    "print(f\"Recall:    {recall:.2f}\")\n",
    "print(f\"F1 Score:  {f1:.2f}\")"
   ]
  },
  {
   "cell_type": "code",
   "execution_count": null,
   "id": "bef3a31b",
   "metadata": {},
   "outputs": [],
   "source": [
    "user_input = input(\"\\nEnter a review statement: \")\n",
    "user_cleaned = clean_text(user_input)\n",
    "user_vector = vectorizer.transform([user_cleaned])\n",
    "user_prediction = model.predict(user_vector)[0]\n",
    "sentiment = \"Positive (Normal)\" if user_prediction == 1 else \"Negative (Abnormal)\"\n",
    "print(\"\\nReview Sentiment:\", sentiment)"
   ]
  }
 ],
 "metadata": {
  "kernelspec": {
   "display_name": "Python 3",
   "language": "python",
   "name": "python3"
  },
  "language_info": {
   "codemirror_mode": {
    "name": "ipython",
    "version": 3
   },
   "file_extension": ".py",
   "mimetype": "text/x-python",
   "name": "python",
   "nbconvert_exporter": "python",
   "pygments_lexer": "ipython3",
   "version": "3.9.10"
  }
 },
 "nbformat": 4,
 "nbformat_minor": 5
}
